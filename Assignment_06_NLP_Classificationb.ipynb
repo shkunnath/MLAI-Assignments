{
 "cells": [
  {
   "cell_type": "code",
   "execution_count": 1,
   "id": "4a83d0b2-661c-4a46-9bcd-188e1762f11e",
   "metadata": {},
   "outputs": [],
   "source": [
    "# Import basic libraries\n",
    "import os\n",
    "os.environ['TF_CPP_MIN_LOG_LEVEL'] = '3'\n",
    "import tensorflow as tf\n",
    "import pandas as pd\n",
    "import pandas as pd"
   ]
  },
  {
   "cell_type": "code",
   "execution_count": 2,
   "id": "6834f5be-50d4-4f9d-8a3b-3c9df65b1d7f",
   "metadata": {},
   "outputs": [],
   "source": [
    "# Load data\n",
    "df = pd.read_csv('/home/hari/Documents/MLAI/Datasets/tweet_product_company.csv',encoding = 'latin-1')"
   ]
  },
  {
   "cell_type": "code",
   "execution_count": 3,
   "id": "91184265-c8e6-4951-914d-5bf02d298db1",
   "metadata": {},
   "outputs": [
    {
     "data": {
      "text/html": [
       "<div>\n",
       "<style scoped>\n",
       "    .dataframe tbody tr th:only-of-type {\n",
       "        vertical-align: middle;\n",
       "    }\n",
       "\n",
       "    .dataframe tbody tr th {\n",
       "        vertical-align: top;\n",
       "    }\n",
       "\n",
       "    .dataframe thead th {\n",
       "        text-align: right;\n",
       "    }\n",
       "</style>\n",
       "<table border=\"1\" class=\"dataframe\">\n",
       "  <thead>\n",
       "    <tr style=\"text-align: right;\">\n",
       "      <th></th>\n",
       "      <th>tweet_text</th>\n",
       "      <th>emotion_in_tweet_is_directed_at</th>\n",
       "      <th>is_there_an_emotion_directed_at_a_brand_or_product</th>\n",
       "    </tr>\n",
       "  </thead>\n",
       "  <tbody>\n",
       "    <tr>\n",
       "      <th>0</th>\n",
       "      <td>.@wesley83 I have a 3G iPhone. After 3 hrs twe...</td>\n",
       "      <td>iPhone</td>\n",
       "      <td>Negative emotion</td>\n",
       "    </tr>\n",
       "    <tr>\n",
       "      <th>1</th>\n",
       "      <td>@jessedee Know about @fludapp ? Awesome iPad/i...</td>\n",
       "      <td>iPad or iPhone App</td>\n",
       "      <td>Positive emotion</td>\n",
       "    </tr>\n",
       "    <tr>\n",
       "      <th>2</th>\n",
       "      <td>@swonderlin Can not wait for #iPad 2 also. The...</td>\n",
       "      <td>iPad</td>\n",
       "      <td>Positive emotion</td>\n",
       "    </tr>\n",
       "    <tr>\n",
       "      <th>3</th>\n",
       "      <td>@sxsw I hope this year's festival isn't as cra...</td>\n",
       "      <td>iPad or iPhone App</td>\n",
       "      <td>Negative emotion</td>\n",
       "    </tr>\n",
       "    <tr>\n",
       "      <th>4</th>\n",
       "      <td>@sxtxstate great stuff on Fri #SXSW: Marissa M...</td>\n",
       "      <td>Google</td>\n",
       "      <td>Positive emotion</td>\n",
       "    </tr>\n",
       "  </tbody>\n",
       "</table>\n",
       "</div>"
      ],
      "text/plain": [
       "                                          tweet_text  \\\n",
       "0  .@wesley83 I have a 3G iPhone. After 3 hrs twe...   \n",
       "1  @jessedee Know about @fludapp ? Awesome iPad/i...   \n",
       "2  @swonderlin Can not wait for #iPad 2 also. The...   \n",
       "3  @sxsw I hope this year's festival isn't as cra...   \n",
       "4  @sxtxstate great stuff on Fri #SXSW: Marissa M...   \n",
       "\n",
       "  emotion_in_tweet_is_directed_at  \\\n",
       "0                          iPhone   \n",
       "1              iPad or iPhone App   \n",
       "2                            iPad   \n",
       "3              iPad or iPhone App   \n",
       "4                          Google   \n",
       "\n",
       "  is_there_an_emotion_directed_at_a_brand_or_product  \n",
       "0                                   Negative emotion  \n",
       "1                                   Positive emotion  \n",
       "2                                   Positive emotion  \n",
       "3                                   Negative emotion  \n",
       "4                                   Positive emotion  "
      ]
     },
     "execution_count": 3,
     "metadata": {},
     "output_type": "execute_result"
    }
   ],
   "source": [
    "# Display a part of the data\n",
    "df.head()"
   ]
  },
  {
   "cell_type": "code",
   "execution_count": 4,
   "id": "c87ea9b2-d930-4e61-ac23-5ea13ed1c468",
   "metadata": {},
   "outputs": [],
   "source": [
    "# Select the necessary columns.\n",
    "messages=df[['tweet_text','is_there_an_emotion_directed_at_a_brand_or_product']].copy()\n",
    "messages.columns=['text','response']"
   ]
  },
  {
   "cell_type": "markdown",
   "id": "7148746e-78ca-4a09-98ea-7108dedbeb00",
   "metadata": {},
   "source": [
    "#### Data Preprocessing"
   ]
  },
  {
   "cell_type": "code",
   "execution_count": 5,
   "id": "5786403e-5e1c-4b12-b0a7-7fc083dcf671",
   "metadata": {},
   "outputs": [],
   "source": [
    "messages.dropna(axis=0,inplace=True)"
   ]
  },
  {
   "cell_type": "code",
   "execution_count": null,
   "id": "bba91aeb-bf77-4401-beee-38e5c76fcabb",
   "metadata": {},
   "outputs": [],
   "source": [
    "from nltk.corpus import stopwords\n",
    "from tensorflow.keras.preprocessing.text import Tokenizer\n",
    "from tensorflow.keras.preprocessing.sequence import pad_sequences\n",
    "from tensorflow.keras.layers import Embedding\n",
    "from gensim.models import KeyedVectors\n",
    "import gensim.downloader\n",
    "\n",
    "# Download and load GloVe embeddings (100-dimensional vectors)\n",
    "word_embeddings = gensim.downloader.load('glove-wiki-gigaword-100')"
   ]
  },
  {
   "cell_type": "code",
   "execution_count": 11,
   "id": "f28b9efb-1e54-4d93-b43d-378f15322adf",
   "metadata": {},
   "outputs": [],
   "source": [
    "import re\n",
    "import nltk\n",
    "import numpy as np\n",
    "def preprocess_text(text):\n",
    "    # Remove URLs\n",
    "    text = re.sub(r'http\\S+', '', text)\n",
    "    \n",
    "    # Remove mentions and hashtags\n",
    "    text = re.sub(r'@[^\\s]+', '', text)\n",
    "    text = re.sub(r'#', '', text)\n",
    "    \n",
    "    # Remove punctuation and numbers\n",
    "    text = re.sub(r'[^a-zA-Z\\s]', '', text)\n",
    "    \n",
    "    # Convert to lowercase\n",
    "    text = text.lower()\n",
    "    \n",
    "    return text"
   ]
  },
  {
   "cell_type": "code",
   "execution_count": 12,
   "id": "952dc00f-acca-4898-a205-e6eb59b8beaa",
   "metadata": {},
   "outputs": [],
   "source": [
    "preprocessed_texts = [preprocess_text(text) for text in messages['text']]"
   ]
  },
  {
   "cell_type": "code",
   "execution_count": 13,
   "id": "5fe90811-9d25-4ca6-af74-232e9b94db3d",
   "metadata": {},
   "outputs": [],
   "source": [
    "tokenizer = Tokenizer()\n",
    "tokenizer.fit_on_texts(preprocessed_texts)\n",
    "\n",
    "# Convert text to sequences\n",
    "sequences = tokenizer.texts_to_sequences(preprocessed_texts)\n",
    "\n",
    "# Pad sequences to a fixed length\n",
    "max_sequence_length = 20\n",
    "padded_sequences = pad_sequences(sequences, maxlen=max_sequence_length, padding='post')\n",
    "\n",
    "# Create an embedding matrix\n",
    "vocab_size = len(tokenizer.word_index) + 1\n",
    "embedding_dim = 100\n",
    "\n",
    "embedding_matrix = np.zeros((vocab_size, embedding_dim))\n",
    "\n",
    "for word, i in tokenizer.word_index.items():\n",
    "    if word in word_embeddings:\n",
    "        embedding_matrix[i] = word_embeddings[word]\n",
    "\n",
    "# Build the Embedding layer using the embedding matrix\n",
    "embedding_layer = Embedding(\n",
    "    input_dim=vocab_size,\n",
    "    output_dim=embedding_dim,\n",
    "    weights=[embedding_matrix],\n",
    "    input_length=max_sequence_length,\n",
    "    trainable=False\n",
    ")"
   ]
  },
  {
   "cell_type": "code",
   "execution_count": 14,
   "id": "1c0045b5-dbcc-497b-a285-5aade89b45d9",
   "metadata": {},
   "outputs": [],
   "source": [
    "# Label encoding\n",
    "class_mapping = {\n",
    "    'Positive emotion': 2,\n",
    "    'Negative emotion': 0,\n",
    "    'No emotion toward brand or product': 1,\n",
    "    \"I can't tell\": 3\n",
    "}\n",
    "messages['response'] = messages['response'].map(class_mapping)"
   ]
  },
  {
   "cell_type": "code",
   "execution_count": 15,
   "id": "0bed1b98-ca35-4106-a2dc-cc33884d695c",
   "metadata": {},
   "outputs": [],
   "source": [
    "# One hot encoding\n",
    "from tensorflow.keras.utils import to_categorical\n",
    "y_one_hot = to_categorical(messages['response'], num_classes=4)"
   ]
  },
  {
   "cell_type": "code",
   "execution_count": 16,
   "id": "e908b548-a688-4837-bfcc-f67d4a5d5bec",
   "metadata": {},
   "outputs": [],
   "source": [
    "# Splitting the data into train and test\n",
    "from sklearn.model_selection import train_test_split\n",
    "X_train, X_test, y_train, y_test = train_test_split(padded_sequences, y_one_hot , test_size=0.2, random_state=42)"
   ]
  },
  {
   "cell_type": "code",
   "execution_count": 17,
   "id": "75855962-0b52-4d28-8543-a08ef841dd99",
   "metadata": {},
   "outputs": [],
   "source": [
    "# Converting train and test to tensors\n",
    "train_dataset = tf.data.Dataset.from_tensor_slices((X_train, y_train)).batch(32)\n",
    "test_dataset = tf.data.Dataset.from_tensor_slices((X_test, y_test)).batch(32)"
   ]
  },
  {
   "cell_type": "code",
   "execution_count": 18,
   "id": "83f6036d-ec69-453a-8bf9-418afe381ca3",
   "metadata": {},
   "outputs": [
    {
     "name": "stdout",
     "output_type": "stream",
     "text": [
      "Model: \"sequential\"\n",
      "_________________________________________________________________\n",
      " Layer (type)                Output Shape              Param #   \n",
      "=================================================================\n",
      " embedding (Embedding)       (None, 20, 100)           1032500   \n",
      "                                                                 \n",
      " bidirectional (Bidirectiona  (None, 20, 256)          234496    \n",
      " l)                                                              \n",
      "                                                                 \n",
      " dropout (Dropout)           (None, 20, 256)           0         \n",
      "                                                                 \n",
      " bidirectional_1 (Bidirectio  (None, 128)              164352    \n",
      " nal)                                                            \n",
      "                                                                 \n",
      " dropout_1 (Dropout)         (None, 128)               0         \n",
      "                                                                 \n",
      " dense (Dense)               (None, 32)                4128      \n",
      "                                                                 \n",
      " dense_1 (Dense)             (None, 4)                 132       \n",
      "                                                                 \n",
      "=================================================================\n",
      "Total params: 1,435,608\n",
      "Trainable params: 403,108\n",
      "Non-trainable params: 1,032,500\n",
      "_________________________________________________________________\n"
     ]
    }
   ],
   "source": [
    "from tensorflow.keras.models import Sequential\n",
    "from tensorflow.keras.layers import Embedding, Bidirectional, LSTM, Dropout, Dense\n",
    "\n",
    "# Create a model\n",
    "model = Sequential()\n",
    "model.add(embedding_layer)\n",
    "model.add(Bidirectional(LSTM(128, return_sequences=True)))\n",
    "model.add(Dropout(0.5))\n",
    "model.add(Bidirectional(LSTM(64)))\n",
    "model.add(Dropout(0.5))\n",
    "model.add(Dense(32, activation='relu'))\n",
    "model.add(Dense(4, activation='softmax'))\n",
    "\n",
    "# Compile the model\n",
    "model.compile(optimizer='adam', loss='categorical_crossentropy', metrics=['accuracy'])\n",
    "\n",
    "# Display the model summary\n",
    "model.summary()"
   ]
  },
  {
   "cell_type": "code",
   "execution_count": 19,
   "id": "140d5ba5-84b3-4259-a573-73f97f02e6dc",
   "metadata": {},
   "outputs": [],
   "source": [
    "# Define early stopping\n",
    "from tensorflow.keras.callbacks import EarlyStopping\n",
    "early_stopping = EarlyStopping(monitor=\"val_loss\", patience=5)"
   ]
  },
  {
   "cell_type": "code",
   "execution_count": 20,
   "id": "73d41c1e-7b19-4e8f-9d44-f1d699e0f490",
   "metadata": {},
   "outputs": [
    {
     "name": "stdout",
     "output_type": "stream",
     "text": [
      "Epoch 1/10\n",
      "228/228 [==============================] - 7s 9ms/step - loss: 0.9034 - accuracy: 0.5949 - val_loss: 0.8710 - val_accuracy: 0.6113\n",
      "Epoch 2/10\n",
      "228/228 [==============================] - 1s 5ms/step - loss: 0.8527 - accuracy: 0.6198 - val_loss: 0.8515 - val_accuracy: 0.6234\n",
      "Epoch 3/10\n",
      "228/228 [==============================] - 1s 5ms/step - loss: 0.8214 - accuracy: 0.6356 - val_loss: 0.8222 - val_accuracy: 0.6449\n",
      "Epoch 4/10\n",
      "228/228 [==============================] - 1s 5ms/step - loss: 0.7790 - accuracy: 0.6568 - val_loss: 0.8134 - val_accuracy: 0.6531\n",
      "Epoch 5/10\n",
      "228/228 [==============================] - 1s 5ms/step - loss: 0.7471 - accuracy: 0.6721 - val_loss: 0.7915 - val_accuracy: 0.6586\n",
      "Epoch 6/10\n",
      "228/228 [==============================] - 1s 5ms/step - loss: 0.7104 - accuracy: 0.6894 - val_loss: 0.7864 - val_accuracy: 0.6679\n",
      "Epoch 7/10\n",
      "228/228 [==============================] - 1s 5ms/step - loss: 0.6687 - accuracy: 0.7130 - val_loss: 0.8023 - val_accuracy: 0.6729\n",
      "Epoch 8/10\n",
      "228/228 [==============================] - 1s 5ms/step - loss: 0.6386 - accuracy: 0.7301 - val_loss: 0.8076 - val_accuracy: 0.6641\n",
      "Epoch 9/10\n",
      "228/228 [==============================] - 1s 5ms/step - loss: 0.5917 - accuracy: 0.7514 - val_loss: 0.8533 - val_accuracy: 0.6690\n",
      "Epoch 10/10\n",
      "228/228 [==============================] - 1s 5ms/step - loss: 0.5542 - accuracy: 0.7657 - val_loss: 0.9086 - val_accuracy: 0.6663\n"
     ]
    },
    {
     "data": {
      "text/plain": [
       "<keras.callbacks.History at 0x7fdd4e966050>"
      ]
     },
     "execution_count": 20,
     "metadata": {},
     "output_type": "execute_result"
    }
   ],
   "source": [
    "# Train the model\n",
    "model.fit(train_dataset, epochs=10, validation_data=test_dataset,callbacks=[early_stopping])"
   ]
  },
  {
   "cell_type": "code",
   "execution_count": 21,
   "id": "ef8101ca-99c3-4861-aaf1-d7dada2bd811",
   "metadata": {},
   "outputs": [
    {
     "name": "stdout",
     "output_type": "stream",
     "text": [
      "57/57 [==============================] - 0s 2ms/step - loss: 0.9086 - accuracy: 0.6663\n",
      "Final accuracy:  0.6663001775741577\n"
     ]
    }
   ],
   "source": [
    "# Display the accuracy score\n",
    "_, accuracy = model.evaluate(X_test, y_test)\n",
    "print(\"Final accuracy: \", accuracy)"
   ]
  },
  {
   "cell_type": "markdown",
   "id": "ffed9d7e-0694-43cf-a4ca-67b249404ded",
   "metadata": {},
   "source": [
    "The final accuracy score is **66.6%**."
   ]
  }
 ],
 "metadata": {
  "kernelspec": {
   "display_name": "Python 3 (ipykernel)",
   "language": "python",
   "name": "python3"
  },
  "language_info": {
   "codemirror_mode": {
    "name": "ipython",
    "version": 3
   },
   "file_extension": ".py",
   "mimetype": "text/x-python",
   "name": "python",
   "nbconvert_exporter": "python",
   "pygments_lexer": "ipython3",
   "version": "3.11.6"
  }
 },
 "nbformat": 4,
 "nbformat_minor": 5
}
